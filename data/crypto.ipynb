{
 "cells": [
  {
   "cell_type": "code",
   "execution_count": 1,
   "metadata": {},
   "outputs": [],
   "source": [
    "import pandas as pd"
   ]
  },
  {
   "cell_type": "code",
   "execution_count": 3,
   "metadata": {},
   "outputs": [],
   "source": [
    "df=pd.read_excel('D:\\\\Data_Analysis\\\\data\\\\cryptos.xlsx')"
   ]
  },
  {
   "cell_type": "code",
   "execution_count": 4,
   "metadata": {},
   "outputs": [
    {
     "data": {
      "text/html": [
       "<div>\n",
       "<style scoped>\n",
       "    .dataframe tbody tr th:only-of-type {\n",
       "        vertical-align: middle;\n",
       "    }\n",
       "\n",
       "    .dataframe tbody tr th {\n",
       "        vertical-align: top;\n",
       "    }\n",
       "\n",
       "    .dataframe thead th {\n",
       "        text-align: right;\n",
       "    }\n",
       "</style>\n",
       "<table border=\"1\" class=\"dataframe\">\n",
       "  <thead>\n",
       "    <tr style=\"text-align: right;\">\n",
       "      <th></th>\n",
       "      <th>CloseTime</th>\n",
       "      <th>OpenPrice</th>\n",
       "      <th>HighPrice</th>\n",
       "      <th>LowPrice</th>\n",
       "      <th>ClosePrice</th>\n",
       "      <th>Volume</th>\n",
       "      <th>NA</th>\n",
       "    </tr>\n",
       "  </thead>\n",
       "  <tbody>\n",
       "    <tr>\n",
       "      <th>0</th>\n",
       "      <td>2019-03-20 14:00:00</td>\n",
       "      <td>3998.64</td>\n",
       "      <td>4002.52</td>\n",
       "      <td>3993.50</td>\n",
       "      <td>3998.00</td>\n",
       "      <td>173.321628</td>\n",
       "      <td>6.928502e+05</td>\n",
       "    </tr>\n",
       "    <tr>\n",
       "      <th>1</th>\n",
       "      <td>2019-03-20 15:00:00</td>\n",
       "      <td>3998.83</td>\n",
       "      <td>4004.95</td>\n",
       "      <td>3993.00</td>\n",
       "      <td>4004.95</td>\n",
       "      <td>347.431239</td>\n",
       "      <td>1.388839e+06</td>\n",
       "    </tr>\n",
       "    <tr>\n",
       "      <th>2</th>\n",
       "      <td>2019-03-20 16:00:00</td>\n",
       "      <td>4006.00</td>\n",
       "      <td>4008.00</td>\n",
       "      <td>3992.00</td>\n",
       "      <td>3998.85</td>\n",
       "      <td>232.962893</td>\n",
       "      <td>9.317110e+05</td>\n",
       "    </tr>\n",
       "    <tr>\n",
       "      <th>3</th>\n",
       "      <td>2019-03-20 17:00:00</td>\n",
       "      <td>3998.84</td>\n",
       "      <td>4021.02</td>\n",
       "      <td>3994.84</td>\n",
       "      <td>4002.50</td>\n",
       "      <td>781.703067</td>\n",
       "      <td>3.138661e+06</td>\n",
       "    </tr>\n",
       "    <tr>\n",
       "      <th>4</th>\n",
       "      <td>2019-03-20 18:00:00</td>\n",
       "      <td>4001.56</td>\n",
       "      <td>4005.41</td>\n",
       "      <td>3992.97</td>\n",
       "      <td>3998.60</td>\n",
       "      <td>171.735476</td>\n",
       "      <td>6.867960e+05</td>\n",
       "    </tr>\n",
       "  </tbody>\n",
       "</table>\n",
       "</div>"
      ],
      "text/plain": [
       "            CloseTime  OpenPrice  HighPrice  LowPrice  ClosePrice      Volume  \\\n",
       "0 2019-03-20 14:00:00    3998.64    4002.52   3993.50     3998.00  173.321628   \n",
       "1 2019-03-20 15:00:00    3998.83    4004.95   3993.00     4004.95  347.431239   \n",
       "2 2019-03-20 16:00:00    4006.00    4008.00   3992.00     3998.85  232.962893   \n",
       "3 2019-03-20 17:00:00    3998.84    4021.02   3994.84     4002.50  781.703067   \n",
       "4 2019-03-20 18:00:00    4001.56    4005.41   3992.97     3998.60  171.735476   \n",
       "\n",
       "             NA  \n",
       "0  6.928502e+05  \n",
       "1  1.388839e+06  \n",
       "2  9.317110e+05  \n",
       "3  3.138661e+06  \n",
       "4  6.867960e+05  "
      ]
     },
     "execution_count": 4,
     "metadata": {},
     "output_type": "execute_result"
    }
   ],
   "source": [
    "df.head()"
   ]
  },
  {
   "cell_type": "code",
   "execution_count": 8,
   "metadata": {},
   "outputs": [
    {
     "data": {
      "text/plain": [
       "4040.69"
      ]
     },
     "execution_count": 8,
     "metadata": {},
     "output_type": "execute_result"
    }
   ],
   "source": [
    "df['OpenPrice'].max()"
   ]
  },
  {
   "cell_type": "code",
   "execution_count": 9,
   "metadata": {},
   "outputs": [
    {
     "data": {
      "text/plain": [
       "4055.35"
      ]
     },
     "execution_count": 9,
     "metadata": {},
     "output_type": "execute_result"
    }
   ],
   "source": [
    "df['HighPrice'].max()"
   ]
  },
  {
   "cell_type": "code",
   "execution_count": null,
   "metadata": {},
   "outputs": [],
   "source": []
  }
 ],
 "metadata": {
  "kernelspec": {
   "display_name": "Python 3",
   "language": "python",
   "name": "python3"
  },
  "language_info": {
   "codemirror_mode": {
    "name": "ipython",
    "version": 3
   },
   "file_extension": ".py",
   "mimetype": "text/x-python",
   "name": "python",
   "nbconvert_exporter": "python",
   "pygments_lexer": "ipython3",
   "version": "3.11.1"
  }
 },
 "nbformat": 4,
 "nbformat_minor": 2
}
